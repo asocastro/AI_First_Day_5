{
  "cells": [
    {
      "cell_type": "code",
      "source": [
        "!pip install openai==0.28.1\n",
        "!pip install fpdf==1.7.2"
      ],
      "metadata": {
        "colab": {
          "base_uri": "https://localhost:8080/"
        },
        "id": "lataKYH3l-T1",
        "outputId": "b48f1e3a-0550-4093-9b82-906b28a3d96e"
      },
      "id": "lataKYH3l-T1",
      "execution_count": 2,
      "outputs": [
        {
          "output_type": "stream",
          "name": "stdout",
          "text": [
            "Requirement already satisfied: openai==0.28.1 in /usr/local/lib/python3.10/dist-packages (0.28.1)\n",
            "Requirement already satisfied: requests>=2.20 in /usr/local/lib/python3.10/dist-packages (from openai==0.28.1) (2.32.3)\n",
            "Requirement already satisfied: tqdm in /usr/local/lib/python3.10/dist-packages (from openai==0.28.1) (4.66.6)\n",
            "Requirement already satisfied: aiohttp in /usr/local/lib/python3.10/dist-packages (from openai==0.28.1) (3.10.10)\n",
            "Requirement already satisfied: charset-normalizer<4,>=2 in /usr/local/lib/python3.10/dist-packages (from requests>=2.20->openai==0.28.1) (3.4.0)\n",
            "Requirement already satisfied: idna<4,>=2.5 in /usr/local/lib/python3.10/dist-packages (from requests>=2.20->openai==0.28.1) (3.10)\n",
            "Requirement already satisfied: urllib3<3,>=1.21.1 in /usr/local/lib/python3.10/dist-packages (from requests>=2.20->openai==0.28.1) (2.2.3)\n",
            "Requirement already satisfied: certifi>=2017.4.17 in /usr/local/lib/python3.10/dist-packages (from requests>=2.20->openai==0.28.1) (2024.8.30)\n",
            "Requirement already satisfied: aiohappyeyeballs>=2.3.0 in /usr/local/lib/python3.10/dist-packages (from aiohttp->openai==0.28.1) (2.4.3)\n",
            "Requirement already satisfied: aiosignal>=1.1.2 in /usr/local/lib/python3.10/dist-packages (from aiohttp->openai==0.28.1) (1.3.1)\n",
            "Requirement already satisfied: attrs>=17.3.0 in /usr/local/lib/python3.10/dist-packages (from aiohttp->openai==0.28.1) (24.2.0)\n",
            "Requirement already satisfied: frozenlist>=1.1.1 in /usr/local/lib/python3.10/dist-packages (from aiohttp->openai==0.28.1) (1.5.0)\n",
            "Requirement already satisfied: multidict<7.0,>=4.5 in /usr/local/lib/python3.10/dist-packages (from aiohttp->openai==0.28.1) (6.1.0)\n",
            "Requirement already satisfied: yarl<2.0,>=1.12.0 in /usr/local/lib/python3.10/dist-packages (from aiohttp->openai==0.28.1) (1.17.1)\n",
            "Requirement already satisfied: async-timeout<5.0,>=4.0 in /usr/local/lib/python3.10/dist-packages (from aiohttp->openai==0.28.1) (4.0.3)\n",
            "Requirement already satisfied: typing-extensions>=4.1.0 in /usr/local/lib/python3.10/dist-packages (from multidict<7.0,>=4.5->aiohttp->openai==0.28.1) (4.12.2)\n",
            "Requirement already satisfied: propcache>=0.2.0 in /usr/local/lib/python3.10/dist-packages (from yarl<2.0,>=1.12.0->aiohttp->openai==0.28.1) (0.2.0)\n",
            "Collecting fpdf==1.7.2\n",
            "  Using cached fpdf-1.7.2-py2.py3-none-any.whl\n",
            "Installing collected packages: fpdf\n",
            "Successfully installed fpdf-1.7.2\n"
          ]
        }
      ]
    },
    {
      "cell_type": "code",
      "execution_count": 3,
      "id": "48ef5895-994b-4287-be64-6bfc2d5cea03",
      "metadata": {
        "id": "48ef5895-994b-4287-be64-6bfc2d5cea03"
      },
      "outputs": [],
      "source": [
        "import pandas as pd\n",
        "import openai\n",
        "import time\n",
        "from fpdf import FPDF\n",
        "\n",
        "openai.api_key = 'KEY_HERE'"
      ]
    },
    {
      "cell_type": "markdown",
      "source": [
        "## Load the dataset"
      ],
      "metadata": {
        "id": "71nyWCPo9mui"
      },
      "id": "71nyWCPo9mui"
    },
    {
      "cell_type": "code",
      "source": [
        "df = pd.read_csv('https://raw.githubusercontent.com/asocastro/AI_First_Day_4_StockWiz/refs/heads/main/stock.csv')"
      ],
      "metadata": {
        "id": "iNEtAbnJma2J"
      },
      "id": "iNEtAbnJma2J",
      "execution_count": 4,
      "outputs": []
    },
    {
      "cell_type": "code",
      "source": [
        "df.sample(5)"
      ],
      "metadata": {
        "id": "Ye6HoobRmc2k",
        "colab": {
          "base_uri": "https://localhost:8080/",
          "height": 313
        },
        "outputId": "c1c67654-3382-4cce-e852-0b6da6f21fe3"
      },
      "id": "Ye6HoobRmc2k",
      "execution_count": 7,
      "outputs": [
        {
          "output_type": "execute_result",
          "data": {
            "text/plain": [
              "          Date  Season        Product_ID  Units_Sold  Inventory_Level  \\\n",
              "82  2023-08-29  Summer  Samsung Smart TV         352              738   \n",
              "99  2023-10-13    Fall     PlayStation 5          87              942   \n",
              "37  2023-04-16  Spring  Samsung Smart TV         174              769   \n",
              "86  2023-09-13    Fall       MacBook Air         456              658   \n",
              "35  2023-04-16  Spring         iPhone 14         412              514   \n",
              "\n",
              "    Cost_Price  Selling_Price    Revenue  Profit_Margin  Discounts_Given  \n",
              "82     1122.75        1332.61  469078.91       73870.75         41418.83  \n",
              "99     1351.08        1762.53  153339.93       35796.05         23908.85  \n",
              "37      508.31         962.25  167431.91       78986.55          2610.23  \n",
              "86      892.14        1086.33  495366.47       88550.14         94468.64  \n",
              "35      731.21         841.77  346810.33       45553.13         52533.24  "
            ],
            "text/html": [
              "\n",
              "  <div id=\"df-4c9fcd3e-ef21-4924-8474-7be5baa4b2ba\" class=\"colab-df-container\">\n",
              "    <div>\n",
              "<style scoped>\n",
              "    .dataframe tbody tr th:only-of-type {\n",
              "        vertical-align: middle;\n",
              "    }\n",
              "\n",
              "    .dataframe tbody tr th {\n",
              "        vertical-align: top;\n",
              "    }\n",
              "\n",
              "    .dataframe thead th {\n",
              "        text-align: right;\n",
              "    }\n",
              "</style>\n",
              "<table border=\"1\" class=\"dataframe\">\n",
              "  <thead>\n",
              "    <tr style=\"text-align: right;\">\n",
              "      <th></th>\n",
              "      <th>Date</th>\n",
              "      <th>Season</th>\n",
              "      <th>Product_ID</th>\n",
              "      <th>Units_Sold</th>\n",
              "      <th>Inventory_Level</th>\n",
              "      <th>Cost_Price</th>\n",
              "      <th>Selling_Price</th>\n",
              "      <th>Revenue</th>\n",
              "      <th>Profit_Margin</th>\n",
              "      <th>Discounts_Given</th>\n",
              "    </tr>\n",
              "  </thead>\n",
              "  <tbody>\n",
              "    <tr>\n",
              "      <th>82</th>\n",
              "      <td>2023-08-29</td>\n",
              "      <td>Summer</td>\n",
              "      <td>Samsung Smart TV</td>\n",
              "      <td>352</td>\n",
              "      <td>738</td>\n",
              "      <td>1122.75</td>\n",
              "      <td>1332.61</td>\n",
              "      <td>469078.91</td>\n",
              "      <td>73870.75</td>\n",
              "      <td>41418.83</td>\n",
              "    </tr>\n",
              "    <tr>\n",
              "      <th>99</th>\n",
              "      <td>2023-10-13</td>\n",
              "      <td>Fall</td>\n",
              "      <td>PlayStation 5</td>\n",
              "      <td>87</td>\n",
              "      <td>942</td>\n",
              "      <td>1351.08</td>\n",
              "      <td>1762.53</td>\n",
              "      <td>153339.93</td>\n",
              "      <td>35796.05</td>\n",
              "      <td>23908.85</td>\n",
              "    </tr>\n",
              "    <tr>\n",
              "      <th>37</th>\n",
              "      <td>2023-04-16</td>\n",
              "      <td>Spring</td>\n",
              "      <td>Samsung Smart TV</td>\n",
              "      <td>174</td>\n",
              "      <td>769</td>\n",
              "      <td>508.31</td>\n",
              "      <td>962.25</td>\n",
              "      <td>167431.91</td>\n",
              "      <td>78986.55</td>\n",
              "      <td>2610.23</td>\n",
              "    </tr>\n",
              "    <tr>\n",
              "      <th>86</th>\n",
              "      <td>2023-09-13</td>\n",
              "      <td>Fall</td>\n",
              "      <td>MacBook Air</td>\n",
              "      <td>456</td>\n",
              "      <td>658</td>\n",
              "      <td>892.14</td>\n",
              "      <td>1086.33</td>\n",
              "      <td>495366.47</td>\n",
              "      <td>88550.14</td>\n",
              "      <td>94468.64</td>\n",
              "    </tr>\n",
              "    <tr>\n",
              "      <th>35</th>\n",
              "      <td>2023-04-16</td>\n",
              "      <td>Spring</td>\n",
              "      <td>iPhone 14</td>\n",
              "      <td>412</td>\n",
              "      <td>514</td>\n",
              "      <td>731.21</td>\n",
              "      <td>841.77</td>\n",
              "      <td>346810.33</td>\n",
              "      <td>45553.13</td>\n",
              "      <td>52533.24</td>\n",
              "    </tr>\n",
              "  </tbody>\n",
              "</table>\n",
              "</div>\n",
              "    <div class=\"colab-df-buttons\">\n",
              "\n",
              "  <div class=\"colab-df-container\">\n",
              "    <button class=\"colab-df-convert\" onclick=\"convertToInteractive('df-4c9fcd3e-ef21-4924-8474-7be5baa4b2ba')\"\n",
              "            title=\"Convert this dataframe to an interactive table.\"\n",
              "            style=\"display:none;\">\n",
              "\n",
              "  <svg xmlns=\"http://www.w3.org/2000/svg\" height=\"24px\" viewBox=\"0 -960 960 960\">\n",
              "    <path d=\"M120-120v-720h720v720H120Zm60-500h600v-160H180v160Zm220 220h160v-160H400v160Zm0 220h160v-160H400v160ZM180-400h160v-160H180v160Zm440 0h160v-160H620v160ZM180-180h160v-160H180v160Zm440 0h160v-160H620v160Z\"/>\n",
              "  </svg>\n",
              "    </button>\n",
              "\n",
              "  <style>\n",
              "    .colab-df-container {\n",
              "      display:flex;\n",
              "      gap: 12px;\n",
              "    }\n",
              "\n",
              "    .colab-df-convert {\n",
              "      background-color: #E8F0FE;\n",
              "      border: none;\n",
              "      border-radius: 50%;\n",
              "      cursor: pointer;\n",
              "      display: none;\n",
              "      fill: #1967D2;\n",
              "      height: 32px;\n",
              "      padding: 0 0 0 0;\n",
              "      width: 32px;\n",
              "    }\n",
              "\n",
              "    .colab-df-convert:hover {\n",
              "      background-color: #E2EBFA;\n",
              "      box-shadow: 0px 1px 2px rgba(60, 64, 67, 0.3), 0px 1px 3px 1px rgba(60, 64, 67, 0.15);\n",
              "      fill: #174EA6;\n",
              "    }\n",
              "\n",
              "    .colab-df-buttons div {\n",
              "      margin-bottom: 4px;\n",
              "    }\n",
              "\n",
              "    [theme=dark] .colab-df-convert {\n",
              "      background-color: #3B4455;\n",
              "      fill: #D2E3FC;\n",
              "    }\n",
              "\n",
              "    [theme=dark] .colab-df-convert:hover {\n",
              "      background-color: #434B5C;\n",
              "      box-shadow: 0px 1px 3px 1px rgba(0, 0, 0, 0.15);\n",
              "      filter: drop-shadow(0px 1px 2px rgba(0, 0, 0, 0.3));\n",
              "      fill: #FFFFFF;\n",
              "    }\n",
              "  </style>\n",
              "\n",
              "    <script>\n",
              "      const buttonEl =\n",
              "        document.querySelector('#df-4c9fcd3e-ef21-4924-8474-7be5baa4b2ba button.colab-df-convert');\n",
              "      buttonEl.style.display =\n",
              "        google.colab.kernel.accessAllowed ? 'block' : 'none';\n",
              "\n",
              "      async function convertToInteractive(key) {\n",
              "        const element = document.querySelector('#df-4c9fcd3e-ef21-4924-8474-7be5baa4b2ba');\n",
              "        const dataTable =\n",
              "          await google.colab.kernel.invokeFunction('convertToInteractive',\n",
              "                                                    [key], {});\n",
              "        if (!dataTable) return;\n",
              "\n",
              "        const docLinkHtml = 'Like what you see? Visit the ' +\n",
              "          '<a target=\"_blank\" href=https://colab.research.google.com/notebooks/data_table.ipynb>data table notebook</a>'\n",
              "          + ' to learn more about interactive tables.';\n",
              "        element.innerHTML = '';\n",
              "        dataTable['output_type'] = 'display_data';\n",
              "        await google.colab.output.renderOutput(dataTable, element);\n",
              "        const docLink = document.createElement('div');\n",
              "        docLink.innerHTML = docLinkHtml;\n",
              "        element.appendChild(docLink);\n",
              "      }\n",
              "    </script>\n",
              "  </div>\n",
              "\n",
              "\n",
              "<div id=\"df-b27c29c6-b55d-431b-a372-a79850170491\">\n",
              "  <button class=\"colab-df-quickchart\" onclick=\"quickchart('df-b27c29c6-b55d-431b-a372-a79850170491')\"\n",
              "            title=\"Suggest charts\"\n",
              "            style=\"display:none;\">\n",
              "\n",
              "<svg xmlns=\"http://www.w3.org/2000/svg\" height=\"24px\"viewBox=\"0 0 24 24\"\n",
              "     width=\"24px\">\n",
              "    <g>\n",
              "        <path d=\"M19 3H5c-1.1 0-2 .9-2 2v14c0 1.1.9 2 2 2h14c1.1 0 2-.9 2-2V5c0-1.1-.9-2-2-2zM9 17H7v-7h2v7zm4 0h-2V7h2v10zm4 0h-2v-4h2v4z\"/>\n",
              "    </g>\n",
              "</svg>\n",
              "  </button>\n",
              "\n",
              "<style>\n",
              "  .colab-df-quickchart {\n",
              "      --bg-color: #E8F0FE;\n",
              "      --fill-color: #1967D2;\n",
              "      --hover-bg-color: #E2EBFA;\n",
              "      --hover-fill-color: #174EA6;\n",
              "      --disabled-fill-color: #AAA;\n",
              "      --disabled-bg-color: #DDD;\n",
              "  }\n",
              "\n",
              "  [theme=dark] .colab-df-quickchart {\n",
              "      --bg-color: #3B4455;\n",
              "      --fill-color: #D2E3FC;\n",
              "      --hover-bg-color: #434B5C;\n",
              "      --hover-fill-color: #FFFFFF;\n",
              "      --disabled-bg-color: #3B4455;\n",
              "      --disabled-fill-color: #666;\n",
              "  }\n",
              "\n",
              "  .colab-df-quickchart {\n",
              "    background-color: var(--bg-color);\n",
              "    border: none;\n",
              "    border-radius: 50%;\n",
              "    cursor: pointer;\n",
              "    display: none;\n",
              "    fill: var(--fill-color);\n",
              "    height: 32px;\n",
              "    padding: 0;\n",
              "    width: 32px;\n",
              "  }\n",
              "\n",
              "  .colab-df-quickchart:hover {\n",
              "    background-color: var(--hover-bg-color);\n",
              "    box-shadow: 0 1px 2px rgba(60, 64, 67, 0.3), 0 1px 3px 1px rgba(60, 64, 67, 0.15);\n",
              "    fill: var(--button-hover-fill-color);\n",
              "  }\n",
              "\n",
              "  .colab-df-quickchart-complete:disabled,\n",
              "  .colab-df-quickchart-complete:disabled:hover {\n",
              "    background-color: var(--disabled-bg-color);\n",
              "    fill: var(--disabled-fill-color);\n",
              "    box-shadow: none;\n",
              "  }\n",
              "\n",
              "  .colab-df-spinner {\n",
              "    border: 2px solid var(--fill-color);\n",
              "    border-color: transparent;\n",
              "    border-bottom-color: var(--fill-color);\n",
              "    animation:\n",
              "      spin 1s steps(1) infinite;\n",
              "  }\n",
              "\n",
              "  @keyframes spin {\n",
              "    0% {\n",
              "      border-color: transparent;\n",
              "      border-bottom-color: var(--fill-color);\n",
              "      border-left-color: var(--fill-color);\n",
              "    }\n",
              "    20% {\n",
              "      border-color: transparent;\n",
              "      border-left-color: var(--fill-color);\n",
              "      border-top-color: var(--fill-color);\n",
              "    }\n",
              "    30% {\n",
              "      border-color: transparent;\n",
              "      border-left-color: var(--fill-color);\n",
              "      border-top-color: var(--fill-color);\n",
              "      border-right-color: var(--fill-color);\n",
              "    }\n",
              "    40% {\n",
              "      border-color: transparent;\n",
              "      border-right-color: var(--fill-color);\n",
              "      border-top-color: var(--fill-color);\n",
              "    }\n",
              "    60% {\n",
              "      border-color: transparent;\n",
              "      border-right-color: var(--fill-color);\n",
              "    }\n",
              "    80% {\n",
              "      border-color: transparent;\n",
              "      border-right-color: var(--fill-color);\n",
              "      border-bottom-color: var(--fill-color);\n",
              "    }\n",
              "    90% {\n",
              "      border-color: transparent;\n",
              "      border-bottom-color: var(--fill-color);\n",
              "    }\n",
              "  }\n",
              "</style>\n",
              "\n",
              "  <script>\n",
              "    async function quickchart(key) {\n",
              "      const quickchartButtonEl =\n",
              "        document.querySelector('#' + key + ' button');\n",
              "      quickchartButtonEl.disabled = true;  // To prevent multiple clicks.\n",
              "      quickchartButtonEl.classList.add('colab-df-spinner');\n",
              "      try {\n",
              "        const charts = await google.colab.kernel.invokeFunction(\n",
              "            'suggestCharts', [key], {});\n",
              "      } catch (error) {\n",
              "        console.error('Error during call to suggestCharts:', error);\n",
              "      }\n",
              "      quickchartButtonEl.classList.remove('colab-df-spinner');\n",
              "      quickchartButtonEl.classList.add('colab-df-quickchart-complete');\n",
              "    }\n",
              "    (() => {\n",
              "      let quickchartButtonEl =\n",
              "        document.querySelector('#df-b27c29c6-b55d-431b-a372-a79850170491 button');\n",
              "      quickchartButtonEl.style.display =\n",
              "        google.colab.kernel.accessAllowed ? 'block' : 'none';\n",
              "    })();\n",
              "  </script>\n",
              "</div>\n",
              "\n",
              "    </div>\n",
              "  </div>\n"
            ],
            "application/vnd.google.colaboratory.intrinsic+json": {
              "type": "dataframe",
              "repr_error": "0"
            }
          },
          "metadata": {},
          "execution_count": 7
        }
      ]
    },
    {
      "cell_type": "markdown",
      "source": [
        "## Understanding the Dataset"
      ],
      "metadata": {
        "id": "QusTNnFu92Jx"
      },
      "id": "QusTNnFu92Jx"
    },
    {
      "cell_type": "code",
      "source": [
        "# Get Column Names and Data Types\n",
        "column_info = df.dtypes\n",
        "print(column_info, \"\\n\")\n"
      ],
      "metadata": {
        "id": "xTpEc-cd8-_l",
        "colab": {
          "base_uri": "https://localhost:8080/"
        },
        "outputId": "41d4d51c-f4ef-4249-bc6a-05ff3164a975"
      },
      "id": "xTpEc-cd8-_l",
      "execution_count": 10,
      "outputs": [
        {
          "output_type": "stream",
          "name": "stdout",
          "text": [
            "Date                object\n",
            "Season              object\n",
            "Product_ID          object\n",
            "Units_Sold           int64\n",
            "Inventory_Level      int64\n",
            "Cost_Price         float64\n",
            "Selling_Price      float64\n",
            "Revenue            float64\n",
            "Profit_Margin      float64\n",
            "Discounts_Given    float64\n",
            "dtype: object \n",
            "\n"
          ]
        }
      ]
    },
    {
      "cell_type": "code",
      "source": [
        "# Identify Categorical and Numerical Features\n",
        "categorical_features = df.select_dtypes(include=['object']).columns\n",
        "numerical_features = df.select_dtypes(include=['int64','float64']).columns\n",
        "print('Categorical Features', categorical_features)\n",
        "print('Numerical Features', numerical_features)\n",
        "\n"
      ],
      "metadata": {
        "id": "0TYP9kiM-E0W",
        "colab": {
          "base_uri": "https://localhost:8080/"
        },
        "outputId": "134e4231-dab2-4e07-e44d-450682f2f0f6"
      },
      "id": "0TYP9kiM-E0W",
      "execution_count": 12,
      "outputs": [
        {
          "output_type": "stream",
          "name": "stdout",
          "text": [
            "Categorical Features Index(['Date', 'Season', 'Product_ID'], dtype='object')\n",
            "Numerical Features Index(['Units_Sold', 'Inventory_Level', 'Cost_Price', 'Selling_Price',\n",
            "       'Revenue', 'Profit_Margin', 'Discounts_Given'],\n",
            "      dtype='object')\n"
          ]
        }
      ]
    },
    {
      "cell_type": "code",
      "execution_count": 15,
      "id": "422cc4d7-966b-4ea8-b991-df4a21f8ac64",
      "metadata": {
        "id": "422cc4d7-966b-4ea8-b991-df4a21f8ac64",
        "colab": {
          "base_uri": "https://localhost:8080/"
        },
        "outputId": "01012256-1c9b-47dd-d6bb-a1daae4985ff"
      },
      "outputs": [
        {
          "output_type": "stream",
          "name": "stdout",
          "text": [
            "Unique Values for Categorical\n",
            " - Date: ['2023-01-01', '2023-01-16', '2023-01-31', '2023-02-15', '2023-03-02', '2023-03-17', '2023-04-01', '2023-04-16', '2023-05-01', '2023-05-16', '...']\n",
            " - Season: None\n",
            " - Product_ID: None\n",
            "\n"
          ]
        }
      ],
      "source": [
        "# Get Unique Values for Categorical Features with Limitation\n",
        "def get_unique_values(col, max_display=10):\n",
        "  uniques = df[col].unique().tolist()\n",
        "  if len(uniques) > max_display:\n",
        "    return uniques[:max_display] + [\"...\"]\n",
        "\n",
        "unique_values = {col: get_unique_values(col) for col in categorical_features}\n",
        "\n",
        "print(\"Unique Values for Categorical\")\n",
        "for col, uniques in unique_values.items():\n",
        "    print(f\" - {col}: {uniques}\")\n",
        "print()\n"
      ]
    },
    {
      "cell_type": "code",
      "source": [
        "# Get Descriptive Statistics for Numerical Features\n",
        "numerical_stats = df[numerical_features].describe()\n",
        "print(numerical_stats)\n",
        "\n"
      ],
      "metadata": {
        "id": "CbfloRag9Kup",
        "colab": {
          "base_uri": "https://localhost:8080/"
        },
        "outputId": "3060f97e-84e2-4ca4-e1ba-0f164e7fbe28"
      },
      "id": "CbfloRag9Kup",
      "execution_count": 16,
      "outputs": [
        {
          "output_type": "stream",
          "name": "stdout",
          "text": [
            "       Units_Sold  Inventory_Level   Cost_Price  Selling_Price        Revenue  \\\n",
            "count   125.00000       125.000000   125.000000     125.000000     125.000000   \n",
            "mean    278.24000       555.392000   916.947840    1204.693680  332605.931680   \n",
            "std     129.58553       263.248622   327.658105     336.194736  179638.618546   \n",
            "min      51.00000       100.000000   300.280000     506.210000   37591.830000   \n",
            "25%     171.00000       321.000000   669.380000     982.700000  177097.400000   \n",
            "50%     282.00000       545.000000   930.680000    1185.600000  314538.860000   \n",
            "75%     384.00000       793.000000  1203.960000    1489.860000  477162.200000   \n",
            "max     484.00000       983.000000  1498.150000    1827.500000  715154.100000   \n",
            "\n",
            "       Profit_Margin  Discounts_Given  \n",
            "count     125.000000       125.000000  \n",
            "mean    79485.856640     34135.085040  \n",
            "std     53131.715744     29770.898231  \n",
            "min      9648.180000       270.500000  \n",
            "25%     39528.370000     11133.100000  \n",
            "50%     67889.800000     23528.190000  \n",
            "75%     97970.580000     50514.950000  \n",
            "max    236205.220000    120494.970000  \n"
          ]
        }
      ]
    },
    {
      "cell_type": "markdown",
      "source": [
        "## Generating the Template"
      ],
      "metadata": {
        "id": "7J1vcAcp-LO_"
      },
      "id": "7J1vcAcp-LO_"
    },
    {
      "cell_type": "code",
      "execution_count": 18,
      "id": "eddf122d-9766-408c-88df-b84ef9a649cf",
      "metadata": {
        "id": "eddf122d-9766-408c-88df-b84ef9a649cf"
      },
      "outputs": [],
      "source": [
        "def generate_template(df,\n",
        "                      column_info,\n",
        "                      categorical_features,\n",
        "                      numerical_features,\n",
        "                      unique_values,\n",
        "                      numerical_stats):\n",
        "\n",
        "  # Construct a summary of the dataframe's structure\n",
        "  column_summary = \"Column Names and Data Types:\\n\"\n",
        "  for col, dtype in column_info.items():\n",
        "    column_summary += f\" - {col}: {dtype}\\n\"\n",
        "\n",
        "\n",
        "  # Unique values for categorical features\n",
        "  unique_values_str = \"Unique Values for Categorical Features:\\n\"\n",
        "  for col, uniques in unique_values.items():\n",
        "    unique_values_str += f\" - {col}: {uniques}\\n\"\n",
        "\n",
        "\n",
        "  # Descriptive statistics for numerical features\n",
        "  numerical_stats_str = \"Descriptive Statistics for Numerical Features:\\n\"\n",
        "  for col in numerical_features:\n",
        "    numerical_stats_str += f\" - {col}:\\n\"\n",
        "    for stat_name, value in numerical_stats[col].items():\n",
        "      numerical_stats_str += f\" - {stat_name}: {value}\\n\"\n",
        "\n",
        "\n",
        "  # Define the system prompt\n",
        "  system_prompt = \"\"\"You are an intelligent assistant that creates descriptive templates for transforming dataframe rows into coherent paragraphs.\n",
        "    Analyze the provided dataframe structure and generate a template sentence that includes placeholders for each column.\n",
        "    Ensure the template is contextually relevant and maintains grammatical correctness.\"\"\"\n",
        "\n",
        "\n",
        "  # Define the user prompt\n",
        "  user_prompt = f\"\"\"\n",
        "  Analyze the following dataframe structure and create a descriptive template with placeholders for each column.\n",
        "\n",
        "  <column_summary>\n",
        "  {column_summary}\n",
        "  </column_summary>\n",
        "\n",
        "  <unique_values>\n",
        "  {unique_values_str}\n",
        "  </unique_values>\n",
        "\n",
        "  <numerical_stats>\n",
        "  {numerical_stats_str}\n",
        "  </numerical_stats>\n",
        "\n",
        "  Use the exact column names from the column_summary in generating the variable names in the template,\n",
        "  as they will be populated with the actual values in the dataset.\n",
        "\n",
        "  Example Template about a Spotify dataset:\n",
        "  \"{{artist}} gained {{streams}} streams in the song '{{song}}' that was a hit in {{date}}.\"\n",
        "\n",
        "\n",
        "  Output only the template without any explanation or introduction.\n",
        "  The template's variables will be dynamically replaced so make sure they're formatted properly.\"\"\"\n",
        "\n",
        "\n",
        "  # Generate the template (with retries)\n",
        "  retries = 3\n",
        "  for attempt in range(retries):\n",
        "      try:\n",
        "          response = openai.ChatCompletion.create(\n",
        "              model=\"gpt-4o-mini\",\n",
        "              temperature=0.3,\n",
        "              max_tokens=1024,\n",
        "              messages=[\n",
        "                  {\"role\": \"system\", \"content\": system_prompt},\n",
        "                  {\"role\": \"user\", \"content\": user_prompt}\n",
        "              ]\n",
        "          )\n",
        "          template = response['choices'][0]['message']['content'].strip()\n",
        "          return template\n",
        "      except Exception as e:\n",
        "          print(f\"Error generating template (Attempt {attempt + 1}/{retries}): {e}\")\n",
        "          time.sleep(2)  # Wait before retrying\n",
        "\n",
        "  return None\n"
      ]
    },
    {
      "cell_type": "code",
      "execution_count": 19,
      "id": "f8a0fd91-80de-4e08-8f86-44325a8accd3",
      "metadata": {
        "id": "f8a0fd91-80de-4e08-8f86-44325a8accd3",
        "colab": {
          "base_uri": "https://localhost:8080/"
        },
        "outputId": "8dcfda33-43fc-48b9-a069-5dcb4586bd34"
      },
      "outputs": [
        {
          "output_type": "stream",
          "name": "stdout",
          "text": [
            "\"On {Date}, during the {Season}, the product with ID {Product_ID} achieved sales of {Units_Sold} units, resulting in an inventory level of {Inventory_Level}. The cost price for this product was {Cost_Price}, while it was sold at a price of {Selling_Price}. This led to a total revenue of {Revenue} and a profit margin of {Profit_Margin}. Additionally, discounts given amounted to {Discounts_Given}.\"\n"
          ]
        }
      ],
      "source": [
        "# Generate the template\n",
        "template = generate_template(df,\n",
        "                             column_info,\n",
        "                             categorical_features,\n",
        "                             numerical_features,\n",
        "                             unique_values,\n",
        "                             numerical_stats)\n",
        "print(template)\n"
      ]
    },
    {
      "cell_type": "markdown",
      "source": [
        "## Populating the Template with Actual Values"
      ],
      "metadata": {
        "id": "VWPq3mcY-r40"
      },
      "id": "VWPq3mcY-r40"
    },
    {
      "cell_type": "code",
      "execution_count": 20,
      "id": "258e73ea-3500-49bb-9820-20637375dd55",
      "metadata": {
        "id": "258e73ea-3500-49bb-9820-20637375dd55"
      },
      "outputs": [],
      "source": [
        "def populate_template(template, row):\n",
        "\n",
        "  # Convert row to dictionary and replace NaN with 'N/A'\n",
        "  row_dict = row.to_dict()\n",
        "  for key, value in row_dict.items():\n",
        "    if pd.isna(value):\n",
        "      row_dict[key] = 'N/A'\n",
        "  paragraph = template.format(**row_dict)\n",
        "\n",
        "  return paragraph\n",
        "\n",
        "  # Generate the populated template per row\n",
        "\n"
      ]
    },
    {
      "cell_type": "code",
      "source": [
        "# Apply the populate_template function to each row in the dataframe\n",
        "df['paragraph'] = df.apply(lambda row: populate_template(template, row), axis=1)\n"
      ],
      "metadata": {
        "id": "rIhyXGSD_Ke4"
      },
      "id": "rIhyXGSD_Ke4",
      "execution_count": 21,
      "outputs": []
    },
    {
      "cell_type": "code",
      "source": [
        "df['paragraph'][0]"
      ],
      "metadata": {
        "colab": {
          "base_uri": "https://localhost:8080/",
          "height": 110
        },
        "id": "8KMDj-UpOlnX",
        "outputId": "b360f25b-474b-4746-d50e-f87082e0d249"
      },
      "id": "8KMDj-UpOlnX",
      "execution_count": 22,
      "outputs": [
        {
          "output_type": "execute_result",
          "data": {
            "text/plain": [
              "'\"On 2023-01-01, during the Winter, the product with ID iPhone 14 achieved sales of 199 units, resulting in an inventory level of 156. The cost price for this product was 1134.53, while it was sold at a price of 1580.6. This led to a total revenue of 314538.86 and a profit margin of 88767.06. Additionally, discounts given amounted to 12395.85.\"'"
            ],
            "application/vnd.google.colaboratory.intrinsic+json": {
              "type": "string"
            }
          },
          "metadata": {},
          "execution_count": 22
        }
      ]
    },
    {
      "cell_type": "markdown",
      "source": [
        "## Saving the Populated Templates (Natural Language Texts)"
      ],
      "metadata": {
        "id": "bDO2V_0P_So1"
      },
      "id": "bDO2V_0P_So1"
    },
    {
      "cell_type": "code",
      "execution_count": 25,
      "id": "0b26a4d3-b3d9-448b-ae5e-f2c8960718cd",
      "metadata": {
        "id": "0b26a4d3-b3d9-448b-ae5e-f2c8960718cd"
      },
      "outputs": [],
      "source": [
        "def save_content_to_txt(paragraphs, txt_filename):\n",
        "    try:\n",
        "        with open(txt_filename, 'w', encoding='utf-8') as file:\n",
        "\n",
        "            for para in paragraphs:\n",
        "                file.write(para + '\\n\\n')  # Double newline for separation\n",
        "\n",
        "        print(f\"All content has been saved as '{txt_filename}'.\\n\")\n",
        "    except Exception as e:\n",
        "        print(f\"Error saving content to text file: {e}\")"
      ]
    },
    {
      "cell_type": "code",
      "execution_count": 26,
      "id": "cb501277-4548-4f79-8b1e-fedafcff856f",
      "metadata": {
        "id": "cb501277-4548-4f79-8b1e-fedafcff856f"
      },
      "outputs": [],
      "source": [
        "def save_content_to_pdf(paragraphs, pdf_filename):\n",
        "    try:\n",
        "        pdf = FPDF()\n",
        "        pdf.add_page()\n",
        "        pdf.set_auto_page_break(auto=True, margin=15)\n",
        "        pdf.set_font(\"Arial\", size=12)\n",
        "\n",
        "        # Add each paragraph\n",
        "        for para in paragraphs:\n",
        "            pdf.multi_cell(0, 10, para)\n",
        "            pdf.ln()  # Add a line break between paragraphs\n",
        "\n",
        "        pdf.output(pdf_filename)\n",
        "        print(f\"All content has been saved as '{pdf_filename}'.\\n\")\n",
        "    except Exception as e:\n",
        "        print(f\"Error saving content to PDF: {e}\")"
      ]
    },
    {
      "cell_type": "code",
      "execution_count": 28,
      "id": "9ee0ce02-95de-4634-bdb3-63e285b9031a",
      "metadata": {
        "id": "9ee0ce02-95de-4634-bdb3-63e285b9031a",
        "colab": {
          "base_uri": "https://localhost:8080/"
        },
        "outputId": "12597f2e-e990-4126-a7ca-5d25291185ee"
      },
      "outputs": [
        {
          "output_type": "stream",
          "name": "stdout",
          "text": [
            "All content has been saved as 'nlg.txt'.\n",
            "\n",
            "All content has been saved as 'nlg.pdf'.\n",
            "\n"
          ]
        }
      ],
      "source": [
        "# Save the paragraphs to both text and PDF files\n",
        "save_content_to_txt(df['paragraph'].to_list(),\n",
        "                    txt_filename='nlg.txt')\n",
        "save_content_to_pdf(df['paragraph'].to_list(),\n",
        "                    pdf_filename='nlg.pdf')\n"
      ]
    }
  ],
  "metadata": {
    "kernelspec": {
      "display_name": "attic-proposals",
      "language": "python",
      "name": "attic-proposals"
    },
    "language_info": {
      "codemirror_mode": {
        "name": "ipython",
        "version": 3
      },
      "file_extension": ".py",
      "mimetype": "text/x-python",
      "name": "python",
      "nbconvert_exporter": "python",
      "pygments_lexer": "ipython3",
      "version": "3.11.0"
    },
    "colab": {
      "provenance": []
    }
  },
  "nbformat": 4,
  "nbformat_minor": 5
}